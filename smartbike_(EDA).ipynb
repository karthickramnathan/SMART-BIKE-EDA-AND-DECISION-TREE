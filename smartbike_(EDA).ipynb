{
  "nbformat": 4,
  "nbformat_minor": 0,
  "metadata": {
    "colab": {
      "name": "smartbike (EDA).ipynb",
      "provenance": [],
      "collapsed_sections": []
    },
    "kernelspec": {
      "name": "python3",
      "display_name": "Python 3"
    },
    "language_info": {
      "name": "python"
    }
  },
  "cells": [
    {
      "cell_type": "code",
      "execution_count": null,
      "metadata": {
        "id": "DKXCGKOCxWTA"
      },
      "outputs": [],
      "source": [
        "import numpy as np\n",
        "import pandas as pd\n",
        "import matplotlib.pyplot as plt\n"
      ]
    },
    {
      "cell_type": "code",
      "source": [
        "df=pd.read_excel(\"/content/drive/MyDrive/Colab Notebooks/Smart bike case study.xlsx\")\n"
      ],
      "metadata": {
        "id": "mnGwHxhUxt1W"
      },
      "execution_count": null,
      "outputs": []
    },
    {
      "cell_type": "code",
      "source": [
        "\n",
        "df['Gender'] = df.groupby(['End Location', 'D.O.W.'])['Gender'].apply(lambda x: x.fillna(x.mode()[0]))"
      ],
      "metadata": {
        "id": "im3G6jIeLKVt"
      },
      "execution_count": null,
      "outputs": []
    },
    {
      "cell_type": "code",
      "source": [
        "df['Dates'] = pd.to_datetime(df['Start date']).dt.date\n",
        "df['Time'] = pd.to_datetime(df['Start date']).dt.time\n",
        "df['month'] = pd. DatetimeIndex(df['Dates']). month\n",
        "df['year'] = pd. DatetimeIndex(df['Dates']). year\n",
        "df['days'] = pd. DatetimeIndex(df['Dates']). day\n",
        "df.drop(columns='Start date',axis=1,inplace=True)\n",
        "#df.drop(columns='Time',axis=1,inplace=True)\n",
        "df"
      ],
      "metadata": {
        "colab": {
          "base_uri": "https://localhost:8080/",
          "height": 424
        },
        "id": "l_tyMXI447MU",
        "outputId": "e5094379-6a9b-4308-eee6-7731a999babd"
      },
      "execution_count": null,
      "outputs": [
        {
          "output_type": "execute_result",
          "data": {
            "text/plain": [
              "       Duration  D.O.W.  Hour End Location Bike number Gender  Member type  \\\n",
              "0       1310546       3    23          NxT      X00577   Male       Member   \n",
              "1        251568       3    23          NxT      X00458   Male       Member   \n",
              "2       1306672       3    22          NxT      X01557   Male  Pay per use   \n",
              "3       1345033       3    22          NxT      T07816   Male  Pay per use   \n",
              "4       1381830       3    22          NxT      X00467   Male  Pay per use   \n",
              "...         ...     ...   ...          ...         ...    ...          ...   \n",
              "22263    739719       7    12          NxT      N01175   Male       Member   \n",
              "22264    234520       4    14       Guindy      N01255   Male       Member   \n",
              "22265   1340515       4    11       Guindy      N01098   Male       Member   \n",
              "22266    374969       4    11       Guindy      N01185   Male       Member   \n",
              "22267   2394424       4     7          NxT      N01174   Male       Member   \n",
              "\n",
              "            Dates      Time  month  year  days  \n",
              "0      2020-06-30  23:14:00      6  2020    30  \n",
              "1      2020-06-30  23:09:00      6  2020    30  \n",
              "2      2020-06-30  22:55:00      6  2020    30  \n",
              "3      2020-06-30  22:55:00      6  2020    30  \n",
              "4      2020-06-30  22:32:00      6  2020    30  \n",
              "...           ...       ...    ...   ...   ...  \n",
              "22263  2020-01-04  12:47:00      1  2020     4  \n",
              "22264  2020-01-01  14:56:00      1  2020     1  \n",
              "22265  2020-01-01  11:39:00      1  2020     1  \n",
              "22266  2020-01-01  11:00:00      1  2020     1  \n",
              "22267  2020-01-01  07:19:00      1  2020     1  \n",
              "\n",
              "[22268 rows x 12 columns]"
            ],
            "text/html": [
              "\n",
              "  <div id=\"df-f8df7b1e-833e-4720-9c9e-9276c12d06ea\">\n",
              "    <div class=\"colab-df-container\">\n",
              "      <div>\n",
              "<style scoped>\n",
              "    .dataframe tbody tr th:only-of-type {\n",
              "        vertical-align: middle;\n",
              "    }\n",
              "\n",
              "    .dataframe tbody tr th {\n",
              "        vertical-align: top;\n",
              "    }\n",
              "\n",
              "    .dataframe thead th {\n",
              "        text-align: right;\n",
              "    }\n",
              "</style>\n",
              "<table border=\"1\" class=\"dataframe\">\n",
              "  <thead>\n",
              "    <tr style=\"text-align: right;\">\n",
              "      <th></th>\n",
              "      <th>Duration</th>\n",
              "      <th>D.O.W.</th>\n",
              "      <th>Hour</th>\n",
              "      <th>End Location</th>\n",
              "      <th>Bike number</th>\n",
              "      <th>Gender</th>\n",
              "      <th>Member type</th>\n",
              "      <th>Dates</th>\n",
              "      <th>Time</th>\n",
              "      <th>month</th>\n",
              "      <th>year</th>\n",
              "      <th>days</th>\n",
              "    </tr>\n",
              "  </thead>\n",
              "  <tbody>\n",
              "    <tr>\n",
              "      <th>0</th>\n",
              "      <td>1310546</td>\n",
              "      <td>3</td>\n",
              "      <td>23</td>\n",
              "      <td>NxT</td>\n",
              "      <td>X00577</td>\n",
              "      <td>Male</td>\n",
              "      <td>Member</td>\n",
              "      <td>2020-06-30</td>\n",
              "      <td>23:14:00</td>\n",
              "      <td>6</td>\n",
              "      <td>2020</td>\n",
              "      <td>30</td>\n",
              "    </tr>\n",
              "    <tr>\n",
              "      <th>1</th>\n",
              "      <td>251568</td>\n",
              "      <td>3</td>\n",
              "      <td>23</td>\n",
              "      <td>NxT</td>\n",
              "      <td>X00458</td>\n",
              "      <td>Male</td>\n",
              "      <td>Member</td>\n",
              "      <td>2020-06-30</td>\n",
              "      <td>23:09:00</td>\n",
              "      <td>6</td>\n",
              "      <td>2020</td>\n",
              "      <td>30</td>\n",
              "    </tr>\n",
              "    <tr>\n",
              "      <th>2</th>\n",
              "      <td>1306672</td>\n",
              "      <td>3</td>\n",
              "      <td>22</td>\n",
              "      <td>NxT</td>\n",
              "      <td>X01557</td>\n",
              "      <td>Male</td>\n",
              "      <td>Pay per use</td>\n",
              "      <td>2020-06-30</td>\n",
              "      <td>22:55:00</td>\n",
              "      <td>6</td>\n",
              "      <td>2020</td>\n",
              "      <td>30</td>\n",
              "    </tr>\n",
              "    <tr>\n",
              "      <th>3</th>\n",
              "      <td>1345033</td>\n",
              "      <td>3</td>\n",
              "      <td>22</td>\n",
              "      <td>NxT</td>\n",
              "      <td>T07816</td>\n",
              "      <td>Male</td>\n",
              "      <td>Pay per use</td>\n",
              "      <td>2020-06-30</td>\n",
              "      <td>22:55:00</td>\n",
              "      <td>6</td>\n",
              "      <td>2020</td>\n",
              "      <td>30</td>\n",
              "    </tr>\n",
              "    <tr>\n",
              "      <th>4</th>\n",
              "      <td>1381830</td>\n",
              "      <td>3</td>\n",
              "      <td>22</td>\n",
              "      <td>NxT</td>\n",
              "      <td>X00467</td>\n",
              "      <td>Male</td>\n",
              "      <td>Pay per use</td>\n",
              "      <td>2020-06-30</td>\n",
              "      <td>22:32:00</td>\n",
              "      <td>6</td>\n",
              "      <td>2020</td>\n",
              "      <td>30</td>\n",
              "    </tr>\n",
              "    <tr>\n",
              "      <th>...</th>\n",
              "      <td>...</td>\n",
              "      <td>...</td>\n",
              "      <td>...</td>\n",
              "      <td>...</td>\n",
              "      <td>...</td>\n",
              "      <td>...</td>\n",
              "      <td>...</td>\n",
              "      <td>...</td>\n",
              "      <td>...</td>\n",
              "      <td>...</td>\n",
              "      <td>...</td>\n",
              "      <td>...</td>\n",
              "    </tr>\n",
              "    <tr>\n",
              "      <th>22263</th>\n",
              "      <td>739719</td>\n",
              "      <td>7</td>\n",
              "      <td>12</td>\n",
              "      <td>NxT</td>\n",
              "      <td>N01175</td>\n",
              "      <td>Male</td>\n",
              "      <td>Member</td>\n",
              "      <td>2020-01-04</td>\n",
              "      <td>12:47:00</td>\n",
              "      <td>1</td>\n",
              "      <td>2020</td>\n",
              "      <td>4</td>\n",
              "    </tr>\n",
              "    <tr>\n",
              "      <th>22264</th>\n",
              "      <td>234520</td>\n",
              "      <td>4</td>\n",
              "      <td>14</td>\n",
              "      <td>Guindy</td>\n",
              "      <td>N01255</td>\n",
              "      <td>Male</td>\n",
              "      <td>Member</td>\n",
              "      <td>2020-01-01</td>\n",
              "      <td>14:56:00</td>\n",
              "      <td>1</td>\n",
              "      <td>2020</td>\n",
              "      <td>1</td>\n",
              "    </tr>\n",
              "    <tr>\n",
              "      <th>22265</th>\n",
              "      <td>1340515</td>\n",
              "      <td>4</td>\n",
              "      <td>11</td>\n",
              "      <td>Guindy</td>\n",
              "      <td>N01098</td>\n",
              "      <td>Male</td>\n",
              "      <td>Member</td>\n",
              "      <td>2020-01-01</td>\n",
              "      <td>11:39:00</td>\n",
              "      <td>1</td>\n",
              "      <td>2020</td>\n",
              "      <td>1</td>\n",
              "    </tr>\n",
              "    <tr>\n",
              "      <th>22266</th>\n",
              "      <td>374969</td>\n",
              "      <td>4</td>\n",
              "      <td>11</td>\n",
              "      <td>Guindy</td>\n",
              "      <td>N01185</td>\n",
              "      <td>Male</td>\n",
              "      <td>Member</td>\n",
              "      <td>2020-01-01</td>\n",
              "      <td>11:00:00</td>\n",
              "      <td>1</td>\n",
              "      <td>2020</td>\n",
              "      <td>1</td>\n",
              "    </tr>\n",
              "    <tr>\n",
              "      <th>22267</th>\n",
              "      <td>2394424</td>\n",
              "      <td>4</td>\n",
              "      <td>7</td>\n",
              "      <td>NxT</td>\n",
              "      <td>N01174</td>\n",
              "      <td>Male</td>\n",
              "      <td>Member</td>\n",
              "      <td>2020-01-01</td>\n",
              "      <td>07:19:00</td>\n",
              "      <td>1</td>\n",
              "      <td>2020</td>\n",
              "      <td>1</td>\n",
              "    </tr>\n",
              "  </tbody>\n",
              "</table>\n",
              "<p>22268 rows × 12 columns</p>\n",
              "</div>\n",
              "      <button class=\"colab-df-convert\" onclick=\"convertToInteractive('df-f8df7b1e-833e-4720-9c9e-9276c12d06ea')\"\n",
              "              title=\"Convert this dataframe to an interactive table.\"\n",
              "              style=\"display:none;\">\n",
              "        \n",
              "  <svg xmlns=\"http://www.w3.org/2000/svg\" height=\"24px\"viewBox=\"0 0 24 24\"\n",
              "       width=\"24px\">\n",
              "    <path d=\"M0 0h24v24H0V0z\" fill=\"none\"/>\n",
              "    <path d=\"M18.56 5.44l.94 2.06.94-2.06 2.06-.94-2.06-.94-.94-2.06-.94 2.06-2.06.94zm-11 1L8.5 8.5l.94-2.06 2.06-.94-2.06-.94L8.5 2.5l-.94 2.06-2.06.94zm10 10l.94 2.06.94-2.06 2.06-.94-2.06-.94-.94-2.06-.94 2.06-2.06.94z\"/><path d=\"M17.41 7.96l-1.37-1.37c-.4-.4-.92-.59-1.43-.59-.52 0-1.04.2-1.43.59L10.3 9.45l-7.72 7.72c-.78.78-.78 2.05 0 2.83L4 21.41c.39.39.9.59 1.41.59.51 0 1.02-.2 1.41-.59l7.78-7.78 2.81-2.81c.8-.78.8-2.07 0-2.86zM5.41 20L4 18.59l7.72-7.72 1.47 1.35L5.41 20z\"/>\n",
              "  </svg>\n",
              "      </button>\n",
              "      \n",
              "  <style>\n",
              "    .colab-df-container {\n",
              "      display:flex;\n",
              "      flex-wrap:wrap;\n",
              "      gap: 12px;\n",
              "    }\n",
              "\n",
              "    .colab-df-convert {\n",
              "      background-color: #E8F0FE;\n",
              "      border: none;\n",
              "      border-radius: 50%;\n",
              "      cursor: pointer;\n",
              "      display: none;\n",
              "      fill: #1967D2;\n",
              "      height: 32px;\n",
              "      padding: 0 0 0 0;\n",
              "      width: 32px;\n",
              "    }\n",
              "\n",
              "    .colab-df-convert:hover {\n",
              "      background-color: #E2EBFA;\n",
              "      box-shadow: 0px 1px 2px rgba(60, 64, 67, 0.3), 0px 1px 3px 1px rgba(60, 64, 67, 0.15);\n",
              "      fill: #174EA6;\n",
              "    }\n",
              "\n",
              "    [theme=dark] .colab-df-convert {\n",
              "      background-color: #3B4455;\n",
              "      fill: #D2E3FC;\n",
              "    }\n",
              "\n",
              "    [theme=dark] .colab-df-convert:hover {\n",
              "      background-color: #434B5C;\n",
              "      box-shadow: 0px 1px 3px 1px rgba(0, 0, 0, 0.15);\n",
              "      filter: drop-shadow(0px 1px 2px rgba(0, 0, 0, 0.3));\n",
              "      fill: #FFFFFF;\n",
              "    }\n",
              "  </style>\n",
              "\n",
              "      <script>\n",
              "        const buttonEl =\n",
              "          document.querySelector('#df-f8df7b1e-833e-4720-9c9e-9276c12d06ea button.colab-df-convert');\n",
              "        buttonEl.style.display =\n",
              "          google.colab.kernel.accessAllowed ? 'block' : 'none';\n",
              "\n",
              "        async function convertToInteractive(key) {\n",
              "          const element = document.querySelector('#df-f8df7b1e-833e-4720-9c9e-9276c12d06ea');\n",
              "          const dataTable =\n",
              "            await google.colab.kernel.invokeFunction('convertToInteractive',\n",
              "                                                     [key], {});\n",
              "          if (!dataTable) return;\n",
              "\n",
              "          const docLinkHtml = 'Like what you see? Visit the ' +\n",
              "            '<a target=\"_blank\" href=https://colab.research.google.com/notebooks/data_table.ipynb>data table notebook</a>'\n",
              "            + ' to learn more about interactive tables.';\n",
              "          element.innerHTML = '';\n",
              "          dataTable['output_type'] = 'display_data';\n",
              "          await google.colab.output.renderOutput(dataTable, element);\n",
              "          const docLink = document.createElement('div');\n",
              "          docLink.innerHTML = docLinkHtml;\n",
              "          element.appendChild(docLink);\n",
              "        }\n",
              "      </script>\n",
              "    </div>\n",
              "  </div>\n",
              "  "
            ]
          },
          "metadata": {},
          "execution_count": 5
        }
      ]
    },
    {
      "cell_type": "code",
      "source": [
        "a=df['Gender'].value_counts()\n",
        "a.plot(kind='bar',color=\"orange\")\n"
      ],
      "metadata": {
        "colab": {
          "base_uri": "https://localhost:8080/",
          "height": 309
        },
        "id": "Ww498ca90weM",
        "outputId": "fb13546e-7168-4f52-8953-74d232bb0633"
      },
      "execution_count": null,
      "outputs": [
        {
          "output_type": "execute_result",
          "data": {
            "text/plain": [
              "<matplotlib.axes._subplots.AxesSubplot at 0x7f89f4459250>"
            ]
          },
          "metadata": {},
          "execution_count": 6
        },
        {
          "output_type": "display_data",
          "data": {
            "text/plain": [
              "<Figure size 432x288 with 1 Axes>"
            ],
            "image/png": "[encoded data removed]"
          },
          "metadata": {
            "needs_background": "light"
          }
        }
      ]
    },
    {
      "cell_type": "code",
      "source": [
        "b=df['End Location'].value_counts()\n",
        "b.plot(kind='bar',color=\"blue\")\n",
        "plt.show()"
      ],
      "metadata": {
        "colab": {
          "base_uri": "https://localhost:8080/",
          "height": 291
        },
        "id": "xlm0EoQZ7MRb",
        "outputId": "e01055c6-5b80-4680-e8b4-49234edd3dca"
      },
      "execution_count": null,
      "outputs": [
        {
          "output_type": "display_data",
          "data": {
            "text/plain": [
              "<Figure size 432x288 with 1 Axes>"
            ],
            "image/png": "[encoded data removed]"
          },
          "metadata": {
            "needs_background": "light"
          }
        }
      ]
    },
    {
      "cell_type": "code",
      "source": [
        "c=df['Member type'].value_counts()\n",
        "c.plot(kind='bar',color=\"green\")\n",
        "plt.show()"
      ],
      "metadata": {
        "colab": {
          "base_uri": "https://localhost:8080/",
          "height": 313
        },
        "id": "J9_OBbyk8Vbj",
        "outputId": "b2dd5121-69cd-45d9-acd0-738db4d036a7"
      },
      "execution_count": null,
      "outputs": [
        {
          "output_type": "display_data",
          "data": {
            "text/plain": [
              "<Figure size 432x288 with 1 Axes>"
            ],
            "image/png": "[encoded data removed]"
          },
          "metadata": {
            "needs_background": "light"
          }
        }
      ]
    },
    {
      "cell_type": "code",
      "source": [
        "#replacing end location\n",
        "# df.replace(to_replace =\"NxT\",value =\"0\",inplace=True)\n",
        "# df.replace(to_replace=\"Guindy\",value=\"1\",inplace=True)\n",
        "# df"
      ],
      "metadata": {
        "id": "Cg37r5VrCbAc"
      },
      "execution_count": null,
      "outputs": []
    },
    {
      "cell_type": "code",
      "source": [
        "#replace gender\n",
        "df.replace(to_replace =\"Male\",value =\"0\",inplace=True)\n",
        "#df.replace(to_replace=\"no data\",value=\"2\",inplace=True)\n",
        "df.replace(to_replace=\"Female\",value=\"1\",inplace=True)\n",
        "df"
      ],
      "metadata": {
        "colab": {
          "base_uri": "https://localhost:8080/",
          "height": 424
        },
        "id": "39v8EAOtCOLV",
        "outputId": "46f64ad8-15c5-406f-d96b-691a59d88d77"
      },
      "execution_count": null,
      "outputs": [
        {
          "output_type": "execute_result",
          "data": {
            "text/plain": [
              "       Duration  D.O.W.  Hour End Location Bike number Gender  Member type  \\\n",
              "0       1310546       3    23          NxT      X00577      0       Member   \n",
              "1        251568       3    23          NxT      X00458      0       Member   \n",
              "2       1306672       3    22          NxT      X01557      0  Pay per use   \n",
              "3       1345033       3    22          NxT      T07816      0  Pay per use   \n",
              "4       1381830       3    22          NxT      X00467      0  Pay per use   \n",
              "...         ...     ...   ...          ...         ...    ...          ...   \n",
              "22263    739719       7    12          NxT      N01175      0       Member   \n",
              "22264    234520       4    14       Guindy      N01255      0       Member   \n",
              "22265   1340515       4    11       Guindy      N01098      0       Member   \n",
              "22266    374969       4    11       Guindy      N01185      0       Member   \n",
              "22267   2394424       4     7          NxT      N01174      0       Member   \n",
              "\n",
              "            Dates      Time  month  year  days  \n",
              "0      2020-06-30  23:14:00      6  2020    30  \n",
              "1      2020-06-30  23:09:00      6  2020    30  \n",
              "2      2020-06-30  22:55:00      6  2020    30  \n",
              "3      2020-06-30  22:55:00      6  2020    30  \n",
              "4      2020-06-30  22:32:00      6  2020    30  \n",
              "...           ...       ...    ...   ...   ...  \n",
              "22263  2020-01-04  12:47:00      1  2020     4  \n",
              "22264  2020-01-01  14:56:00      1  2020     1  \n",
              "22265  2020-01-01  11:39:00      1  2020     1  \n",
              "22266  2020-01-01  11:00:00      1  2020     1  \n",
              "22267  2020-01-01  07:19:00      1  2020     1  \n",
              "\n",
              "[22268 rows x 12 columns]"
            ],
            "text/html": [
              "\n",
              "  <div id=\"df-2a1a82a2-7f9f-4cc1-ba49-d22d9111fbb9\">\n",
              "    <div class=\"colab-df-container\">\n",
              "      <div>\n",
              "<style scoped>\n",
              "    .dataframe tbody tr th:only-of-type {\n",
              "        vertical-align: middle;\n",
              "    }\n",
              "\n",
              "    .dataframe tbody tr th {\n",
              "        vertical-align: top;\n",
              "    }\n",
              "\n",
              "    .dataframe thead th {\n",
              "        text-align: right;\n",
              "    }\n",
              "</style>\n",
              "<table border=\"1\" class=\"dataframe\">\n",
              "  <thead>\n",
              "    <tr style=\"text-align: right;\">\n",
              "      <th></th>\n",
              "      <th>Duration</th>\n",
              "      <th>D.O.W.</th>\n",
              "      <th>Hour</th>\n",
              "      <th>End Location</th>\n",
              "      <th>Bike number</th>\n",
              "      <th>Gender</th>\n",
              "      <th>Member type</th>\n",
              "      <th>Dates</th>\n",
              "      <th>Time</th>\n",
              "      <th>month</th>\n",
              "      <th>year</th>\n",
              "      <th>days</th>\n",
              "    </tr>\n",
              "  </thead>\n",
              "  <tbody>\n",
              "    <tr>\n",
              "      <th>0</th>\n",
              "      <td>1310546</td>\n",
              "      <td>3</td>\n",
              "      <td>23</td>\n",
              "      <td>NxT</td>\n",
              "      <td>X00577</td>\n",
              "      <td>0</td>\n",
              "      <td>Member</td>\n",
              "      <td>2020-06-30</td>\n",
              "      <td>23:14:00</td>\n",
              "      <td>6</td>\n",
              "      <td>2020</td>\n",
              "      <td>30</td>\n",
              "    </tr>\n",
              "    <tr>\n",
              "      <th>1</th>\n",
              "      <td>251568</td>\n",
              "      <td>3</td>\n",
              "      <td>23</td>\n",
              "      <td>NxT</td>\n",
              "      <td>X00458</td>\n",
              "      <td>0</td>\n",
              "      <td>Member</td>\n",
              "      <td>2020-06-30</td>\n",
              "      <td>23:09:00</td>\n",
              "      <td>6</td>\n",
              "      <td>2020</td>\n",
              "      <td>30</td>\n",
              "    </tr>\n",
              "    <tr>\n",
              "      <th>2</th>\n",
              "      <td>1306672</td>\n",
              "      <td>3</td>\n",
              "      <td>22</td>\n",
              "      <td>NxT</td>\n",
              "      <td>X01557</td>\n",
              "      <td>0</td>\n",
              "      <td>Pay per use</td>\n",
              "      <td>2020-06-30</td>\n",
              "      <td>22:55:00</td>\n",
              "      <td>6</td>\n",
              "      <td>2020</td>\n",
              "      <td>30</td>\n",
              "    </tr>\n",
              "    <tr>\n",
              "      <th>3</th>\n",
              "      <td>1345033</td>\n",
              "      <td>3</td>\n",
              "      <td>22</td>\n",
              "      <td>NxT</td>\n",
              "      <td>T07816</td>\n",
              "      <td>0</td>\n",
              "      <td>Pay per use</td>\n",
              "      <td>2020-06-30</td>\n",
              "      <td>22:55:00</td>\n",
              "      <td>6</td>\n",
              "      <td>2020</td>\n",
              "      <td>30</td>\n",
              "    </tr>\n",
              "    <tr>\n",
              "      <th>4</th>\n",
              "      <td>1381830</td>\n",
              "      <td>3</td>\n",
              "      <td>22</td>\n",
              "      <td>NxT</td>\n",
              "      <td>X00467</td>\n",
              "      <td>0</td>\n",
              "      <td>Pay per use</td>\n",
              "      <td>2020-06-30</td>\n",
              "      <td>22:32:00</td>\n",
              "      <td>6</td>\n",
              "      <td>2020</td>\n",
              "      <td>30</td>\n",
              "    </tr>\n",
              "    <tr>\n",
              "      <th>...</th>\n",
              "      <td>...</td>\n",
              "      <td>...</td>\n",
              "      <td>...</td>\n",
              "      <td>...</td>\n",
              "      <td>...</td>\n",
              "      <td>...</td>\n",
              "      <td>...</td>\n",
              "      <td>...</td>\n",
              "      <td>...</td>\n",
              "      <td>...</td>\n",
              "      <td>...</td>\n",
              "      <td>...</td>\n",
              "    </tr>\n",
              "    <tr>\n",
              "      <th>22263</th>\n",
              "      <td>739719</td>\n",
              "      <td>7</td>\n",
              "      <td>12</td>\n",
              "      <td>NxT</td>\n",
              "      <td>N01175</td>\n",
              "      <td>0</td>\n",
              "      <td>Member</td>\n",
              "      <td>2020-01-04</td>\n",
              "      <td>12:47:00</td>\n",
              "      <td>1</td>\n",
              "      <td>2020</td>\n",
              "      <td>4</td>\n",
              "    </tr>\n",
              "    <tr>\n",
              "      <th>22264</th>\n",
              "      <td>234520</td>\n",
              "      <td>4</td>\n",
              "      <td>14</td>\n",
              "      <td>Guindy</td>\n",
              "      <td>N01255</td>\n",
              "      <td>0</td>\n",
              "      <td>Member</td>\n",
              "      <td>2020-01-01</td>\n",
              "      <td>14:56:00</td>\n",
              "      <td>1</td>\n",
              "      <td>2020</td>\n",
              "      <td>1</td>\n",
              "    </tr>\n",
              "    <tr>\n",
              "      <th>22265</th>\n",
              "      <td>1340515</td>\n",
              "      <td>4</td>\n",
              "      <td>11</td>\n",
              "      <td>Guindy</td>\n",
              "      <td>N01098</td>\n",
              "      <td>0</td>\n",
              "      <td>Member</td>\n",
              "      <td>2020-01-01</td>\n",
              "      <td>11:39:00</td>\n",
              "      <td>1</td>\n",
              "      <td>2020</td>\n",
              "      <td>1</td>\n",
              "    </tr>\n",
              "    <tr>\n",
              "      <th>22266</th>\n",
              "      <td>374969</td>\n",
              "      <td>4</td>\n",
              "      <td>11</td>\n",
              "      <td>Guindy</td>\n",
              "      <td>N01185</td>\n",
              "      <td>0</td>\n",
              "      <td>Member</td>\n",
              "      <td>2020-01-01</td>\n",
              "      <td>11:00:00</td>\n",
              "      <td>1</td>\n",
              "      <td>2020</td>\n",
              "      <td>1</td>\n",
              "    </tr>\n",
              "    <tr>\n",
              "      <th>22267</th>\n",
              "      <td>2394424</td>\n",
              "      <td>4</td>\n",
              "      <td>7</td>\n",
              "      <td>NxT</td>\n",
              "      <td>N01174</td>\n",
              "      <td>0</td>\n",
              "      <td>Member</td>\n",
              "      <td>2020-01-01</td>\n",
              "      <td>07:19:00</td>\n",
              "      <td>1</td>\n",
              "      <td>2020</td>\n",
              "      <td>1</td>\n",
              "    </tr>\n",
              "  </tbody>\n",
              "</table>\n",
              "<p>22268 rows × 12 columns</p>\n",
              "</div>\n",
              "      <button class=\"colab-df-convert\" onclick=\"convertToInteractive('df-2a1a82a2-7f9f-4cc1-ba49-d22d9111fbb9')\"\n",
              "              title=\"Convert this dataframe to an interactive table.\"\n",
              "              style=\"display:none;\">\n",
              "        \n",
              "  <svg xmlns=\"http://www.w3.org/2000/svg\" height=\"24px\"viewBox=\"0 0 24 24\"\n",
              "       width=\"24px\">\n",
              "    <path d=\"M0 0h24v24H0V0z\" fill=\"none\"/>\n",
              "    <path d=\"M18.56 5.44l.94 2.06.94-2.06 2.06-.94-2.06-.94-.94-2.06-.94 2.06-2.06.94zm-11 1L8.5 8.5l.94-2.06 2.06-.94-2.06-.94L8.5 2.5l-.94 2.06-2.06.94zm10 10l.94 2.06.94-2.06 2.06-.94-2.06-.94-.94-2.06-.94 2.06-2.06.94z\"/><path d=\"M17.41 7.96l-1.37-1.37c-.4-.4-.92-.59-1.43-.59-.52 0-1.04.2-1.43.59L10.3 9.45l-7.72 7.72c-.78.78-.78 2.05 0 2.83L4 21.41c.39.39.9.59 1.41.59.51 0 1.02-.2 1.41-.59l7.78-7.78 2.81-2.81c.8-.78.8-2.07 0-2.86zM5.41 20L4 18.59l7.72-7.72 1.47 1.35L5.41 20z\"/>\n",
              "  </svg>\n",
              "      </button>\n",
              "      \n",
              "  <style>\n",
              "    .colab-df-container {\n",
              "      display:flex;\n",
              "      flex-wrap:wrap;\n",
              "      gap: 12px;\n",
              "    }\n",
              "\n",
              "    .colab-df-convert {\n",
              "      background-color: #E8F0FE;\n",
              "      border: none;\n",
              "      border-radius: 50%;\n",
              "      cursor: pointer;\n",
              "      display: none;\n",
              "      fill: #1967D2;\n",
              "      height: 32px;\n",
              "      padding: 0 0 0 0;\n",
              "      width: 32px;\n",
              "    }\n",
              "\n",
              "    .colab-df-convert:hover {\n",
              "      background-color: #E2EBFA;\n",
              "      box-shadow: 0px 1px 2px rgba(60, 64, 67, 0.3), 0px 1px 3px 1px rgba(60, 64, 67, 0.15);\n",
              "      fill: #174EA6;\n",
              "    }\n",
              "\n",
              "    [theme=dark] .colab-df-convert {\n",
              "      background-color: #3B4455;\n",
              "      fill: #D2E3FC;\n",
              "    }\n",
              "\n",
              "    [theme=dark] .colab-df-convert:hover {\n",
              "      background-color: #434B5C;\n",
              "      box-shadow: 0px 1px 3px 1px rgba(0, 0, 0, 0.15);\n",
              "      filter: drop-shadow(0px 1px 2px rgba(0, 0, 0, 0.3));\n",
              "      fill: #FFFFFF;\n",
              "    }\n",
              "  </style>\n",
              "\n",
              "      <script>\n",
              "        const buttonEl =\n",
              "          document.querySelector('#df-2a1a82a2-7f9f-4cc1-ba49-d22d9111fbb9 button.colab-df-convert');\n",
              "        buttonEl.style.display =\n",
              "          google.colab.kernel.accessAllowed ? 'block' : 'none';\n",
              "\n",
              "        async function convertToInteractive(key) {\n",
              "          const element = document.querySelector('#df-2a1a82a2-7f9f-4cc1-ba49-d22d9111fbb9');\n",
              "          const dataTable =\n",
              "            await google.colab.kernel.invokeFunction('convertToInteractive',\n",
              "                                                     [key], {});\n",
              "          if (!dataTable) return;\n",
              "\n",
              "          const docLinkHtml = 'Like what you see? Visit the ' +\n",
              "            '<a target=\"_blank\" href=https://colab.research.google.com/notebooks/data_table.ipynb>data table notebook</a>'\n",
              "            + ' to learn more about interactive tables.';\n",
              "          element.innerHTML = '';\n",
              "          dataTable['output_type'] = 'display_data';\n",
              "          await google.colab.output.renderOutput(dataTable, element);\n",
              "          const docLink = document.createElement('div');\n",
              "          docLink.innerHTML = docLinkHtml;\n",
              "          element.appendChild(docLink);\n",
              "        }\n",
              "      </script>\n",
              "    </div>\n",
              "  </div>\n",
              "  "
            ]
          },
          "metadata": {},
          "execution_count": 10
        }
      ]
    },
    {
      "cell_type": "code",
      "source": [
        "#replace membertype\n",
        "#df.replace(to_replace=\"Pay per use\",value=\"1\",inplace=True)\n",
        "#df.drop(columns=\"Start date\",axis=1,inplace=True)\n",
        "df.drop(columns=\"Bike number\",axis=1,inplace=True)\n",
        "df.drop(columns=\"Dates\",axis=1,inplace=True)\n",
        "df.drop(columns=\"Time\",axis=1,inplace=True)\n",
        "df.drop(columns=\"year\",axis=1,inplace=True)\n",
        "df[\"Duration\"]=df[\"Duration\"]/86400\n",
        "df\n",
        "\n"
      ],
      "metadata": {
        "colab": {
          "base_uri": "https://localhost:8080/",
          "height": 424
        },
        "id": "jG2GmroRHThI",
        "outputId": "66450d78-995b-470f-b1bc-39b3f48597c8"
      },
      "execution_count": null,
      "outputs": [
        {
          "output_type": "execute_result",
          "data": {
            "text/plain": [
              "        Duration  D.O.W.  Hour End Location Gender  Member type  month  days\n",
              "0      15.168356       3    23          NxT      0       Member      6    30\n",
              "1       2.911667       3    23          NxT      0       Member      6    30\n",
              "2      15.123519       3    22          NxT      0  Pay per use      6    30\n",
              "3      15.567512       3    22          NxT      0  Pay per use      6    30\n",
              "4      15.993403       3    22          NxT      0  Pay per use      6    30\n",
              "...          ...     ...   ...          ...    ...          ...    ...   ...\n",
              "22263   8.561563       7    12          NxT      0       Member      1     4\n",
              "22264   2.714352       4    14       Guindy      0       Member      1     1\n",
              "22265  15.515220       4    11       Guindy      0       Member      1     1\n",
              "22266   4.339919       4    11       Guindy      0       Member      1     1\n",
              "22267  27.713241       4     7          NxT      0       Member      1     1\n",
              "\n",
              "[22268 rows x 8 columns]"
            ],
            "text/html": [
              "\n",
              "  <div id=\"df-414e32ba-89ab-4865-ae67-69293e1f2c39\">\n",
              "    <div class=\"colab-df-container\">\n",
              "      <div>\n",
              "<style scoped>\n",
              "    .dataframe tbody tr th:only-of-type {\n",
              "        vertical-align: middle;\n",
              "    }\n",
              "\n",
              "    .dataframe tbody tr th {\n",
              "        vertical-align: top;\n",
              "    }\n",
              "\n",
              "    .dataframe thead th {\n",
              "        text-align: right;\n",
              "    }\n",
              "</style>\n",
              "<table border=\"1\" class=\"dataframe\">\n",
              "  <thead>\n",
              "    <tr style=\"text-align: right;\">\n",
              "      <th></th>\n",
              "      <th>Duration</th>\n",
              "      <th>D.O.W.</th>\n",
              "      <th>Hour</th>\n",
              "      <th>End Location</th>\n",
              "      <th>Gender</th>\n",
              "      <th>Member type</th>\n",
              "      <th>month</th>\n",
              "      <th>days</th>\n",
              "    </tr>\n",
              "  </thead>\n",
              "  <tbody>\n",
              "    <tr>\n",
              "      <th>0</th>\n",
              "      <td>15.168356</td>\n",
              "      <td>3</td>\n",
              "      <td>23</td>\n",
              "      <td>NxT</td>\n",
              "      <td>0</td>\n",
              "      <td>Member</td>\n",
              "      <td>6</td>\n",
              "      <td>30</td>\n",
              "    </tr>\n",
              "    <tr>\n",
              "      <th>1</th>\n",
              "      <td>2.911667</td>\n",
              "      <td>3</td>\n",
              "      <td>23</td>\n",
              "      <td>NxT</td>\n",
              "      <td>0</td>\n",
              "      <td>Member</td>\n",
              "      <td>6</td>\n",
              "      <td>30</td>\n",
              "    </tr>\n",
              "    <tr>\n",
              "      <th>2</th>\n",
              "      <td>15.123519</td>\n",
              "      <td>3</td>\n",
              "      <td>22</td>\n",
              "      <td>NxT</td>\n",
              "      <td>0</td>\n",
              "      <td>Pay per use</td>\n",
              "      <td>6</td>\n",
              "      <td>30</td>\n",
              "    </tr>\n",
              "    <tr>\n",
              "      <th>3</th>\n",
              "      <td>15.567512</td>\n",
              "      <td>3</td>\n",
              "      <td>22</td>\n",
              "      <td>NxT</td>\n",
              "      <td>0</td>\n",
              "      <td>Pay per use</td>\n",
              "      <td>6</td>\n",
              "      <td>30</td>\n",
              "    </tr>\n",
              "    <tr>\n",
              "      <th>4</th>\n",
              "      <td>15.993403</td>\n",
              "      <td>3</td>\n",
              "      <td>22</td>\n",
              "      <td>NxT</td>\n",
              "      <td>0</td>\n",
              "      <td>Pay per use</td>\n",
              "      <td>6</td>\n",
              "      <td>30</td>\n",
              "    </tr>\n",
              "    <tr>\n",
              "      <th>...</th>\n",
              "      <td>...</td>\n",
              "      <td>...</td>\n",
              "      <td>...</td>\n",
              "      <td>...</td>\n",
              "      <td>...</td>\n",
              "      <td>...</td>\n",
              "      <td>...</td>\n",
              "      <td>...</td>\n",
              "    </tr>\n",
              "    <tr>\n",
              "      <th>22263</th>\n",
              "      <td>8.561563</td>\n",
              "      <td>7</td>\n",
              "      <td>12</td>\n",
              "      <td>NxT</td>\n",
              "      <td>0</td>\n",
              "      <td>Member</td>\n",
              "      <td>1</td>\n",
              "      <td>4</td>\n",
              "    </tr>\n",
              "    <tr>\n",
              "      <th>22264</th>\n",
              "      <td>2.714352</td>\n",
              "      <td>4</td>\n",
              "      <td>14</td>\n",
              "      <td>Guindy</td>\n",
              "      <td>0</td>\n",
              "      <td>Member</td>\n",
              "      <td>1</td>\n",
              "      <td>1</td>\n",
              "    </tr>\n",
              "    <tr>\n",
              "      <th>22265</th>\n",
              "      <td>15.515220</td>\n",
              "      <td>4</td>\n",
              "      <td>11</td>\n",
              "      <td>Guindy</td>\n",
              "      <td>0</td>\n",
              "      <td>Member</td>\n",
              "      <td>1</td>\n",
              "      <td>1</td>\n",
              "    </tr>\n",
              "    <tr>\n",
              "      <th>22266</th>\n",
              "      <td>4.339919</td>\n",
              "      <td>4</td>\n",
              "      <td>11</td>\n",
              "      <td>Guindy</td>\n",
              "      <td>0</td>\n",
              "      <td>Member</td>\n",
              "      <td>1</td>\n",
              "      <td>1</td>\n",
              "    </tr>\n",
              "    <tr>\n",
              "      <th>22267</th>\n",
              "      <td>27.713241</td>\n",
              "      <td>4</td>\n",
              "      <td>7</td>\n",
              "      <td>NxT</td>\n",
              "      <td>0</td>\n",
              "      <td>Member</td>\n",
              "      <td>1</td>\n",
              "      <td>1</td>\n",
              "    </tr>\n",
              "  </tbody>\n",
              "</table>\n",
              "<p>22268 rows × 8 columns</p>\n",
              "</div>\n",
              "      <button class=\"colab-df-convert\" onclick=\"convertToInteractive('df-414e32ba-89ab-4865-ae67-69293e1f2c39')\"\n",
              "              title=\"Convert this dataframe to an interactive table.\"\n",
              "              style=\"display:none;\">\n",
              "        \n",
              "  <svg xmlns=\"http://www.w3.org/2000/svg\" height=\"24px\"viewBox=\"0 0 24 24\"\n",
              "       width=\"24px\">\n",
              "    <path d=\"M0 0h24v24H0V0z\" fill=\"none\"/>\n",
              "    <path d=\"M18.56 5.44l.94 2.06.94-2.06 2.06-.94-2.06-.94-.94-2.06-.94 2.06-2.06.94zm-11 1L8.5 8.5l.94-2.06 2.06-.94-2.06-.94L8.5 2.5l-.94 2.06-2.06.94zm10 10l.94 2.06.94-2.06 2.06-.94-2.06-.94-.94-2.06-.94 2.06-2.06.94z\"/><path d=\"M17.41 7.96l-1.37-1.37c-.4-.4-.92-.59-1.43-.59-.52 0-1.04.2-1.43.59L10.3 9.45l-7.72 7.72c-.78.78-.78 2.05 0 2.83L4 21.41c.39.39.9.59 1.41.59.51 0 1.02-.2 1.41-.59l7.78-7.78 2.81-2.81c.8-.78.8-2.07 0-2.86zM5.41 20L4 18.59l7.72-7.72 1.47 1.35L5.41 20z\"/>\n",
              "  </svg>\n",
              "      </button>\n",
              "      \n",
              "  <style>\n",
              "    .colab-df-container {\n",
              "      display:flex;\n",
              "      flex-wrap:wrap;\n",
              "      gap: 12px;\n",
              "    }\n",
              "\n",
              "    .colab-df-convert {\n",
              "      background-color: #E8F0FE;\n",
              "      border: none;\n",
              "      border-radius: 50%;\n",
              "      cursor: pointer;\n",
              "      display: none;\n",
              "      fill: #1967D2;\n",
              "      height: 32px;\n",
              "      padding: 0 0 0 0;\n",
              "      width: 32px;\n",
              "    }\n",
              "\n",
              "    .colab-df-convert:hover {\n",
              "      background-color: #E2EBFA;\n",
              "      box-shadow: 0px 1px 2px rgba(60, 64, 67, 0.3), 0px 1px 3px 1px rgba(60, 64, 67, 0.15);\n",
              "      fill: #174EA6;\n",
              "    }\n",
              "\n",
              "    [theme=dark] .colab-df-convert {\n",
              "      background-color: #3B4455;\n",
              "      fill: #D2E3FC;\n",
              "    }\n",
              "\n",
              "    [theme=dark] .colab-df-convert:hover {\n",
              "      background-color: #434B5C;\n",
              "      box-shadow: 0px 1px 3px 1px rgba(0, 0, 0, 0.15);\n",
              "      filter: drop-shadow(0px 1px 2px rgba(0, 0, 0, 0.3));\n",
              "      fill: #FFFFFF;\n",
              "    }\n",
              "  </style>\n",
              "\n",
              "      <script>\n",
              "        const buttonEl =\n",
              "          document.querySelector('#df-414e32ba-89ab-4865-ae67-69293e1f2c39 button.colab-df-convert');\n",
              "        buttonEl.style.display =\n",
              "          google.colab.kernel.accessAllowed ? 'block' : 'none';\n",
              "\n",
              "        async function convertToInteractive(key) {\n",
              "          const element = document.querySelector('#df-414e32ba-89ab-4865-ae67-69293e1f2c39');\n",
              "          const dataTable =\n",
              "            await google.colab.kernel.invokeFunction('convertToInteractive',\n",
              "                                                     [key], {});\n",
              "          if (!dataTable) return;\n",
              "\n",
              "          const docLinkHtml = 'Like what you see? Visit the ' +\n",
              "            '<a target=\"_blank\" href=https://colab.research.google.com/notebooks/data_table.ipynb>data table notebook</a>'\n",
              "            + ' to learn more about interactive tables.';\n",
              "          element.innerHTML = '';\n",
              "          dataTable['output_type'] = 'display_data';\n",
              "          await google.colab.output.renderOutput(dataTable, element);\n",
              "          const docLink = document.createElement('div');\n",
              "          docLink.innerHTML = docLinkHtml;\n",
              "          element.appendChild(docLink);\n",
              "        }\n",
              "      </script>\n",
              "    </div>\n",
              "  </div>\n",
              "  "
            ]
          },
          "metadata": {},
          "execution_count": 11
        }
      ]
    },
    {
      "cell_type": "code",
      "source": [
        "# day of the week and member type\n",
        "import seaborn as sns\n",
        "sns.countplot(data=df,x='D.O.W.',hue='Member type')\n",
        "\n",
        "\n"
      ],
      "metadata": {
        "colab": {
          "base_uri": "https://localhost:8080/",
          "height": 297
        },
        "id": "qTNAIGqBWd7l",
        "outputId": "12d96933-8f04-428e-d3c1-3ef89540e1d8"
      },
      "execution_count": null,
      "outputs": [
        {
          "output_type": "execute_result",
          "data": {
            "text/plain": [
              "<matplotlib.axes._subplots.AxesSubplot at 0x7f89f47ccc50>"
            ]
          },
          "metadata": {},
          "execution_count": 12
        },
        {
          "output_type": "display_data",
          "data": {
            "text/plain": [
              "<Figure size 432x288 with 1 Axes>"
            ],
            "image/png": "[encoded data removed]"
          },
          "metadata": {
            "needs_background": "light"
          }
        }
      ]
    },
    {
      "cell_type": "markdown",
      "source": [
        "1)**use of bi cycle by members increases by 3rd day of the week**\n",
        "\n",
        "\n",
        "2)**pay per use seems to decrease by 3rd day of the week**"
      ],
      "metadata": {
        "id": "XewDpOjfychY"
      }
    },
    {
      "cell_type": "code",
      "source": [
        "#comparing hour and member type\n",
        "sns.histplot(data=df,x=\"Hour\",hue=df['Member type'],multiple='stack')"
      ],
      "metadata": {
        "id": "RSnzVqdjX3BM",
        "colab": {
          "base_uri": "https://localhost:8080/",
          "height": 297
        },
        "outputId": "58cefd55-c229-40ee-d55f-b43869a923e9"
      },
      "execution_count": null,
      "outputs": [
        {
          "output_type": "execute_result",
          "data": {
            "text/plain": [
              "<matplotlib.axes._subplots.AxesSubplot at 0x7f89f49cd950>"
            ]
          },
          "metadata": {},
          "execution_count": 13
        },
        {
          "output_type": "display_data",
          "data": {
            "text/plain": [
              "<Figure size 432x288 with 1 Axes>"
            ],
            "image/png": "[encoded data removed]"
          },
          "metadata": {
            "needs_background": "light"
          }
        }
      ]
    },
    {
      "cell_type": "markdown",
      "source": [
        "1)**The neeed of cycles by the members seems to peek between 8 am  to 9 am**\n",
        "\n",
        "2)**pay per use seems to increase at 3 pm in the evening and decrease at 5 pm in the evening**"
      ],
      "metadata": {
        "id": "2d60dczG13Gg"
      }
    },
    {
      "cell_type": "code",
      "source": [
        "#comparing month  and membertype\n",
        "sns.countplot(data=df,x=\"month\",hue=df['Member type'])"
      ],
      "metadata": {
        "colab": {
          "base_uri": "https://localhost:8080/",
          "height": 297
        },
        "id": "D52fdeNaC_Qe",
        "outputId": "386f1a4f-3130-4fd2-f724-cf2c4615b455"
      },
      "execution_count": null,
      "outputs": [
        {
          "output_type": "execute_result",
          "data": {
            "text/plain": [
              "<matplotlib.axes._subplots.AxesSubplot at 0x7f89f48bc3d0>"
            ]
          },
          "metadata": {},
          "execution_count": 14
        },
        {
          "output_type": "display_data",
          "data": {
            "text/plain": [
              "<Figure size 432x288 with 1 Axes>"
            ],
            "image/png": "[encoded data removed]"
          },
          "metadata": {
            "needs_background": "light"
          }
        }
      ]
    },
    {
      "cell_type": "markdown",
      "source": [
        "**There is a rise in both in pay per use and member in 4th,5th,6th month** "
      ],
      "metadata": {
        "id": "y3IUHKiZ2ytI"
      }
    },
    {
      "cell_type": "code",
      "source": [
        "sns.countplot(data=df,x=\"End Location\",hue=df['Member type'])"
      ],
      "metadata": {
        "colab": {
          "base_uri": "https://localhost:8080/",
          "height": 297
        },
        "id": "wq1ef8OfGm-E",
        "outputId": "cf07bc14-98b6-429f-a4ca-8bca757a2ba0"
      },
      "execution_count": null,
      "outputs": [
        {
          "output_type": "execute_result",
          "data": {
            "text/plain": [
              "<matplotlib.axes._subplots.AxesSubplot at 0x7f89f478a650>"
            ]
          },
          "metadata": {},
          "execution_count": 15
        },
        {
          "output_type": "display_data",
          "data": {
            "text/plain": [
              "<Figure size 432x288 with 1 Axes>"
            ],
            "image/png": "[encoded data removed]"
          },
          "metadata": {
            "needs_background": "light"
          }
        }
      ]
    },
    {
      "cell_type": "markdown",
      "source": [
        "**More people tend to go to the end location Nxt then guindy**"
      ],
      "metadata": {
        "id": "7kmdPPGT4SZe"
      }
    },
    {
      "cell_type": "code",
      "source": [
        "#sns.histplot(data=df,x=\"days\",hue=\"Member type\",multiple='stack',edgecolor='white')"
      ],
      "metadata": {
        "id": "bTWlRnvDKLHQ"
      },
      "execution_count": null,
      "outputs": []
    },
    {
      "cell_type": "code",
      "source": [
        "sns.lineplot(y=\"Duration\",x=\"days\",hue=\"Member type\", data=df)"
      ],
      "metadata": {
        "colab": {
          "base_uri": "https://localhost:8080/",
          "height": 297
        },
        "id": "Y6QcIHg1OFlx",
        "outputId": "6b509b43-12b7-49cf-87e7-1418ce0bc31f"
      },
      "execution_count": null,
      "outputs": [
        {
          "output_type": "execute_result",
          "data": {
            "text/plain": [
              "<matplotlib.axes._subplots.AxesSubplot at 0x7f89f4a953d0>"
            ]
          },
          "metadata": {},
          "execution_count": 17
        },
        {
          "output_type": "display_data",
          "data": {
            "text/plain": [
              "<Figure size 432x288 with 1 Axes>"
            ],
            "image/png": "[encoded data removed]"
          },
          "metadata": {
            "needs_background": "light"
          }
        }
      ]
    },
    {
      "cell_type": "markdown",
      "source": [
        "**Pay per use customers tend to  rent the  cycle for more hours than the members and i t seems to increase during night hours from 8 pm to 11 pm**"
      ],
      "metadata": {
        "id": "qX0NXJQ34oDG"
      }
    }
  ]
}